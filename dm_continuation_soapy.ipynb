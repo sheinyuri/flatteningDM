{
 "cells": [
  {
   "cell_type": "markdown",
   "id": "69cd1e5b",
   "metadata": {},
   "source": [
    "**Attempted DM simulation with Soapy**\n",
    "\n",
    "    See notes in \"dm_continuation_v2.ipynb\" for background mathematics and derivations.\n",
    "    See soapy AO package for specific details about soapy's methods."
   ]
  },
  {
   "cell_type": "code",
   "execution_count": null,
   "id": "7a1fe3cc",
   "metadata": {},
   "outputs": [],
   "source": [
    "import soapy\n",
    "import matplotlib.pyplot as plt\n",
    "import numpy as np\n",
    "import yaml\n",
    "from collections import OrderedDict\n",
    "# essential imports"
   ]
  },
  {
   "cell_type": "code",
   "execution_count": null,
   "id": "104d0d56",
   "metadata": {},
   "outputs": [],
   "source": [
    "def str_presenter(dumper, data):\n",
    "    if isinstance(data, list):\n",
    "        return dumper.represent_sequence(u'tag:yaml.org,2002:seq', data, flow_style=True)\n",
    "    return dumper.represent_data(data)\n",
    "\n",
    "yaml.add_representer(list, str_presenter)\n",
    "\n",
    "# formatting instructions to ensure OrderedDict produces a dictionary in the correct format for a YAML file."
   ]
  },
  {
   "cell_type": "code",
   "execution_count": 1,
   "id": "11aaca44",
   "metadata": {},
   "outputs": [],
   "source": [
    "def convert_ordered_dict(obj):\n",
    "    if isinstance(obj, OrderedDict):\n",
    "        return {k: convert_ordered_dict(v) for k, v in obj.items()}\n",
    "    elif isinstance(obj, list):\n",
    "        return [convert_ordered_dict(i) for i in obj]\n",
    "    elif isinstance(obj, dict):\n",
    "        return {k: convert_ordered_dict(v) for k, v in obj.items()}\n",
    "    else:\n",
    "        return obj\n",
    "\n",
    "# function for converting an OrderedDict to a normal Dict, as an OrderedDict cannot be properly read to a YAMl file in a simple method."
   ]
  },
  {
   "cell_type": "code",
   "execution_count": null,
   "id": "2fe8b3b6",
   "metadata": {},
   "outputs": [
    {
     "name": "stdout",
     "output_type": "stream",
     "text": [
      "done :)\n"
     ]
    }
   ],
   "source": [
    "phase_map_file = \"proc_val_2.fits\"\n",
    "# loads the final wavefront array from the 4f system in Fourf_optical_system_simulation_v1.ipynb\n",
    "\n",
    "atmosphere = {\n",
    "    # parameters for atmosphere\n",
    "    'scrnNo':1,\n",
    "    'scrnHeights': [0],\n",
    "    'scrnStrengths': [1.0],\n",
    "    'windDirs': [0.0],\n",
    "    'windSpeeds': [0.0],\n",
    "    'r0': 0.15,\n",
    "    'scrnNames': [phase_map_file],\n",
    "    'subHarmonics': False,\n",
    "    'L0': [30.0],\n",
    "    'randomScrns': False,\n",
    "    'infinite': False,\n",
    "    'wholeScrnSize': 502\n",
    "}\n",
    "\n",
    "telescope = {\n",
    "    # parameters for telescope\n",
    "    'telDiam': 0.1\n",
    "}\n",
    "\n",
    "dm0 = {\n",
    "    # parameters for DM\n",
    "    'type': 'FastPiezo',\n",
    "    'nxActuators': 2,\n",
    "    'gain': 0.6,\n",
    "    'iMatValue': 500\n",
    "}\n",
    "\n",
    "wfs0 = {\n",
    "    # parameters for WFS\n",
    "    'GSPosition': [0, 0],\n",
    "    'wavelength': 200e-9,\n",
    "    'nxSubaps': 10\n",
    "}\n",
    "\n",
    "sci0 = {\n",
    "    # parameters for science camera\n",
    "    'position': [0,0],\n",
    "    'FOV': 0.5,\n",
    "    'wavelength': 200e-9,\n",
    "    'pxls': 502\n",
    "}\n",
    "\n",
    "reconstructor = {\n",
    "    # parameters for the reconstructor\n",
    "    'type': 'MVM',\n",
    "    'svdConditioning': 0,\n",
    "    'gain': 0.6,\n",
    "    'imat_noise': True\n",
    "}\n",
    "\n",
    "dm_section = OrderedDict()\n",
    "dm_section[0] = dm0\n",
    "\n",
    "wfs_section = OrderedDict()\n",
    "wfs_section[0] = wfs0\n",
    "\n",
    "sci_section = OrderedDict()\n",
    "sci_section[0] = sci0\n",
    "\n",
    "proc_result = OrderedDict()\n",
    "proc_result['simName'] = 'PROC_RESULT'\n",
    "proc_result['pupilSize'] = 502\n",
    "proc_result['nIters'] = 100\n",
    "proc_result['loopTime'] = 0.00125\n",
    "proc_result['nDM'] = 1\n",
    "proc_result['nSci'] = 1\n",
    "proc_result['nGS'] = 1\n",
    "proc_result['saveSciencePsf'] = True\n",
    "proc_result['saveInstPsf'] = True\n",
    "proc_result['reconstructor'] = 'MVM'\n",
    "\n",
    "proc_result['Atmosphere'] = atmosphere\n",
    "proc_result['Telescope'] = telescope\n",
    "proc_result['DM'] = dm_section\n",
    "proc_result['WFS'] = wfs_section\n",
    "proc_result['Science'] = sci_section\n",
    "proc_result['Reconstructor'] = reconstructor\n",
    "\n",
    "# ^ converts the parameters to an OrderedDict\n",
    "\n",
    "proc_result = convert_ordered_dict(proc_result)\n",
    "# converts OrderedDict to just Dict.\n",
    "\n",
    "with open(\"proc_result.yaml\", \"w\") as f:\n",
    "    yaml.dump(proc_result, f, sort_keys=False, default_flow_style=False)\n",
    "# converts Dict to YAML file\n",
    "\n",
    "print(\"Done!\")\n"
   ]
  },
  {
   "cell_type": "code",
   "execution_count": null,
   "id": "5715a157",
   "metadata": {},
   "outputs": [
    {
     "name": "stdout",
     "output_type": "stream",
     "text": [
      "success! :)\n"
     ]
    }
   ],
   "source": [
    "sim = soapy.Sim(\"proc_result.yaml\")\n",
    "print(\"Success!\")\n",
    "# generate simulation using YAMl file generated above"
   ]
  },
  {
   "cell_type": "code",
   "execution_count": null,
   "id": "8f940cc9",
   "metadata": {},
   "outputs": [
    {
     "name": "stdout",
     "output_type": "stream",
     "text": [
      "Starting Sim: 2025-05-08-13-30-42\n",
      "Pixel Scale: 5020.00 pxls/m\n",
      "subScreenSize: 512 simulation pixels\n",
      "Creating mask...\n"
     ]
    },
    {
     "name": "stderr",
     "output_type": "stream",
     "text": [
      "c:\\Users\\yuris\\anaconda3\\envs\\soapy-env\\lib\\site-packages\\soapy\\atmosphere.py:120: RuntimeWarning: divide by zero encountered in scalar divide\n",
      "  tau0 = 0.314 * self.r0 / vBar53\n"
     ]
    },
    {
     "name": "stdout",
     "output_type": "stream",
     "text": [
      "Turbulence summary @ 500 nm:\n",
      "| r0 = 0.15 m (0.69\" seeing)\n",
      "| Vbar_5/3 = 0.00 m/s\n",
      "| tau0 = inf ms\n",
      "Loading Phase Screens\n",
      "c:\\Users\\yuris\\anaconda3\\envs\\soapy-env\\lib\\site-packages\\soapy\\atmosphere.py -> __init__: no r0 info found in screen header - will assume its ok as it is\n",
      "c:\\Users\\yuris\\anaconda3\\envs\\soapy-env\\lib\\site-packages\\soapy\\atmosphere.py -> __init__: Requested phase screen has different size to that input in config file....loading anyway\n",
      "Initialising WFSs....\n",
      "WFS 0: 160 measurements\n",
      "Initialising 1 DMs...\n",
      "Making DM Influence Functions...\n",
      "DM 0: 4 active actuators\n",
      "4 total DM Actuators\n",
      "Initialising Reconstructor...\n",
      "Initialising 1 Science Cams...\n",
      "Generating fftw3 plan....\n",
      "If this takes too long, change fftw_FLAGS.\n",
      "Done!\n"
     ]
    },
    {
     "name": "stderr",
     "output_type": "stream",
     "text": [
      "c:\\Users\\yuris\\anaconda3\\envs\\soapy-env\\lib\\site-packages\\soapy\\SCI.py:153: RuntimeWarning: invalid value encountered in divide\n",
      "  self.detector /= self.detector.sum()\n"
     ]
    },
    {
     "name": "stdout",
     "output_type": "stream",
     "text": [
      "Initialise Data Storage...\n",
      "Initialisation Complete!\n"
     ]
    }
   ],
   "source": [
    "sim.aoinit()\n",
    "# runs simulation"
   ]
  },
  {
   "cell_type": "code",
   "execution_count": null,
   "id": "cdcad80e",
   "metadata": {},
   "outputs": [
    {
     "name": "stdout",
     "output_type": "stream",
     "text": [
      "DMs: {0: <soapy.DM.FastPiezo object at 0x0000025BF0011100>}\n",
      "WFSs: {0: <soapy.wfs.shackhartmann.ShackHartmann object at 0x0000025BBB989D60>}\n",
      "Making interaction Matrices...\n",
      "Load Interaction Matrices failed with error: Traceback (most recent call last):\n",
      "  File \"c:\\Users\\yuris\\anaconda3\\envs\\soapy-env\\lib\\site-packages\\soapy\\reconstruction.py\", line 363, in makeCMat\n",
      "    self.load_interaction_matrix()\n",
      "  File \"c:\\Users\\yuris\\anaconda3\\envs\\soapy-env\\lib\\site-packages\\soapy\\reconstruction.py\", line 208, in load_interaction_matrix\n",
      "    imat_header = fits.getheader(filename)\n",
      "  File \"c:\\Users\\yuris\\anaconda3\\envs\\soapy-env\\lib\\site-packages\\astropy\\io\\fits\\convenience.py\", line 121, in getheader\n",
      "    hdulist, extidx = _getext(filename, mode, *args, **kwargs)\n",
      "  File \"c:\\Users\\yuris\\anaconda3\\envs\\soapy-env\\lib\\site-packages\\astropy\\io\\fits\\convenience.py\", line 1121, in _getext\n",
      "    hdulist = fitsopen(filename, mode=mode, **kwargs)\n",
      "  File \"c:\\Users\\yuris\\anaconda3\\envs\\soapy-env\\lib\\site-packages\\astropy\\io\\fits\\hdu\\hdulist.py\", line 222, in fitsopen\n",
      "    return HDUList.fromfile(\n",
      "  File \"c:\\Users\\yuris\\anaconda3\\envs\\soapy-env\\lib\\site-packages\\astropy\\io\\fits\\hdu\\hdulist.py\", line 486, in fromfile\n",
      "    return cls._readfrom(\n",
      "  File \"c:\\Users\\yuris\\anaconda3\\envs\\soapy-env\\lib\\site-packages\\astropy\\io\\fits\\hdu\\hdulist.py\", line 1169, in _readfrom\n",
      "    fileobj = _File(\n",
      "  File \"c:\\Users\\yuris\\anaconda3\\envs\\soapy-env\\lib\\site-packages\\astropy\\io\\fits\\file.py\", line 218, in __init__\n",
      "    self._open_filename(fileobj, mode, overwrite)\n",
      "  File \"c:\\Users\\yuris\\anaconda3\\envs\\soapy-env\\lib\\site-packages\\astropy\\io\\fits\\file.py\", line 641, in _open_filename\n",
      "    self._file = open(self.name, IO_FITS_MODES[mode])\n",
      "FileNotFoundError: [Errno 2] No such file or directory: 'PROC_RESULT/iMat.fits'\n",
      " - will create new one...\n",
      "Creating Interaction Matrix for DM 0 \n",
      "4 of 4: Generating 4 Actuator DM iMat\n",
      "Checking for redundant actuators...\n",
      "DM 0 has 4 valid actuators (0 dropped)\n",
      "Interaction Matrices Done\n",
      "Load Command Matrix\n",
      "c:\\Users\\yuris\\anaconda3\\envs\\soapy-env\\lib\\site-packages\\soapy\\reconstruction.py -> makeCMat: Load Command Matrix failed qith error: Traceback (most recent call last):\n",
      "  File \"c:\\Users\\yuris\\anaconda3\\envs\\soapy-env\\lib\\site-packages\\soapy\\reconstruction.py\", line 381, in makeCMat\n",
      "    self.loadCMat()\n",
      "  File \"c:\\Users\\yuris\\anaconda3\\envs\\soapy-env\\lib\\site-packages\\soapy\\reconstruction.py\", line 135, in loadCMat\n",
      "    cMatHDU = fits.open(filename)[0]\n",
      "  File \"c:\\Users\\yuris\\anaconda3\\envs\\soapy-env\\lib\\site-packages\\astropy\\io\\fits\\hdu\\hdulist.py\", line 222, in fitsopen\n",
      "    return HDUList.fromfile(\n",
      "  File \"c:\\Users\\yuris\\anaconda3\\envs\\soapy-env\\lib\\site-packages\\astropy\\io\\fits\\hdu\\hdulist.py\", line 486, in fromfile\n",
      "    return cls._readfrom(\n",
      "  File \"c:\\Users\\yuris\\anaconda3\\envs\\soapy-env\\lib\\site-packages\\astropy\\io\\fits\\hdu\\hdulist.py\", line 1169, in _readfrom\n",
      "    fileobj = _File(\n",
      "  File \"c:\\Users\\yuris\\anaconda3\\envs\\soapy-env\\lib\\site-packages\\astropy\\io\\fits\\file.py\", line 218, in __init__\n",
      "    self._open_filename(fileobj, mode, overwrite)\n",
      "  File \"c:\\Users\\yuris\\anaconda3\\envs\\soapy-env\\lib\\site-packages\\astropy\\io\\fits\\file.py\", line 641, in _open_filename\n",
      "    self._file = open(self.name, IO_FITS_MODES[mode])\n",
      "FileNotFoundError: [Errno 2] No such file or directory: 'PROC_RESULT/cMat.fits'\n",
      " - will create new one...\n",
      "Invert iMat with conditioning: 0.0000\n",
      "Command Matrix Generated!\n"
     ]
    }
   ],
   "source": [
    "print(f\"DMs: {sim.recon.dms}\")\n",
    "print(f\"WFSs: {sim.recon.wfss}\")\n",
    "sim.makeIMat()\n",
    "# creates a command matrix"
   ]
  },
  {
   "cell_type": "code",
   "execution_count": null,
   "id": "32bf2fe5",
   "metadata": {},
   "outputs": [
    {
     "name": "stderr",
     "output_type": "stream",
     "text": [
      "c:\\Users\\yuris\\anaconda3\\envs\\soapy-env\\lib\\site-packages\\soapy\\SCI.py:153: RuntimeWarning: invalid value encountered in divide\n",
      "  self.detector /= self.detector.sum()\n"
     ]
    },
    {
     "name": "stdout",
     "output_type": "stream",
     "text": [
      "100 of 100: PROC_RESULT  Strehl -- sci_0: inst nan, long nan \n",
      "\n",
      "\n",
      "Science Camera 0: Long Exposure Strehl Ratio: nan\n",
      "                  EE50 diameter [mas]: 0\n",
      "\n",
      "\n",
      "Time moving atmosphere: 8.30\n",
      "Time making IMats and CMats: 1.60\n",
      "Time in WFS: 6.29\n",
      "\t of which time spent in : 0.00\n",
      "Time in Reconstruction: 0.01\n",
      "Time in DM: 2.20\n",
      "Time making science image: 12.62\n",
      "\n",
      "\n"
     ]
    }
   ],
   "source": [
    "sim.aoloop()\n",
    "# formats science images"
   ]
  },
  {
   "cell_type": "code",
   "execution_count": null,
   "id": "655a8872",
   "metadata": {},
   "outputs": [
    {
     "name": "stdout",
     "output_type": "stream",
     "text": [
      "Min: nan\n",
      "Max: nan\n",
      "Mean: nan\n"
     ]
    },
    {
     "data": {
      "text/plain": [
       "<matplotlib.image.AxesImage at 0x25bf2c8e790>"
      ]
     },
     "execution_count": 10,
     "metadata": {},
     "output_type": "execute_result"
    },
    {
     "data": {
      "image/png": "[encoded data removed]",
      "text/plain": [
       "<Figure size 640x480 with 1 Axes>"
      ]
     },
     "metadata": {},
     "output_type": "display_data"
    }
   ],
   "source": [
    "print(\"Min:\", np.min(sim.sciImgs[0]))\n",
    "print(\"Max:\", np.max(sim.sciImgs[0]))\n",
    "print(\"Mean:\", np.mean(sim.sciImgs[0]))\n",
    "\n",
    "plt.imshow(sim.sciImgs[0])\n",
    "# should image the results from the science camera"
   ]
  }
 ],
 "metadata": {
  "kernelspec": {
   "display_name": "soapy-env",
   "language": "python",
   "name": "python3"
  },
  "language_info": {
   "codemirror_mode": {
    "name": "ipython",
    "version": 3
   },
   "file_extension": ".py",
   "mimetype": "text/x-python",
   "name": "python",
   "nbconvert_exporter": "python",
   "pygments_lexer": "ipython3",
   "version": "3.9.21"
  }
 },
 "nbformat": 4,
 "nbformat_minor": 5
}
