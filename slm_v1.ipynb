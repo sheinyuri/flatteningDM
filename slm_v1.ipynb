{
 "cells": [
  {
   "cell_type": "markdown",
   "id": "e7e8db30",
   "metadata": {},
   "source": [
    "**SLM V1**"
   ]
  },
  {
   "cell_type": "code",
   "execution_count": null,
   "id": "3248a5cd",
   "metadata": {},
   "outputs": [],
   "source": [
    "import numpy as np\n",
    "from numpy.fft import fft2, ifft2, fftfreq, fftshift, ifftshift"
   ]
  },
  {
   "cell_type": "code",
   "execution_count": null,
   "id": "e8bd3358",
   "metadata": {},
   "outputs": [],
   "source": [
    "def phase_map_discrete(phase_map, steps = 255):\n",
    "    ''' map to turn continuous phase map (user defined) into a discrete map'''\n",
    "\n",
    "    phase_map_mod = np.mod(phase_map, 2*np.pi) # ensures phase map in within bounds of 0 and 2pi\n",
    "    phase_map_steps = phase_map_mod * steps/(2*np.pi) # converts phase map to bounds of 0 and 'steps'\n",
    "    phase_map_discrete = np.round(phase_map_steps).astype(np.uint8) * 2*np.pi/steps # conversion back to 0-2pi scale, now discrete\n",
    "    return phase_map_discrete\n",
    "\n"
   ]
  }
 ],
 "metadata": {
  "language_info": {
   "name": "python"
  }
 },
 "nbformat": 4,
 "nbformat_minor": 5
}
