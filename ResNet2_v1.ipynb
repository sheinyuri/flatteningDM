{
 "cells": [
  {
   "cell_type": "code",
   "execution_count": 3,
   "id": "7afcb32c",
   "metadata": {},
   "outputs": [],
   "source": [
    "import torch\n",
    "import torch.nn as nn\n",
    "import torch.fft as fft"
   ]
  },
  {
   "cell_type": "code",
   "execution_count": null,
   "id": "61c530b7",
   "metadata": {},
   "outputs": [],
   "source": [
    "'''' \n",
    "Using Nishizaki et al. (2019)'s suggestions for ResNet2\n",
    "\n",
    "'''' "
   ]
  },
  {
   "cell_type": "code",
   "execution_count": null,
   "id": "02876e6e",
   "metadata": {},
   "outputs": [],
   "source": [
    "class DBlock(nn.Module):\n",
    "    def __init__(self, in_channels, out_channels):\n",
    "        super(MyBlock, self).__init__()\n",
    "        self.conv1 = nn.Conv2d(in_channels=in_channels, out_channels=out_channels, kernel_size=3, stride=2, padding =1)\n",
    "        self.bn1 = nn.BatchNorm2d(out_channels)\n",
    "        self.relu = nn.ReLu(inplace = True)\n",
    "        self.conv2 = nn.Conv2d(in_channels=in_channels, out_channels=out_channels, kernal_size = 3, stride = 1, padding=1)\n",
    "        self.bn2 = nn.BatchNorm2d(out_channels)\n",
    "\n",
    "    def forward(self, x):\n",
    "        output1 = self.conv1(x)\n",
    "\n",
    "        output2 = self.bn1(x)\n",
    "        output2 = self.relu(output2)\n",
    "        output2 = self.conv1(output2)\n",
    "        output2 = self.bn2(output2)\n",
    "        output2 = self.relu(output2)\n",
    "        output2 = self.conv2(output2)\n",
    "\n",
    "        output = output1 + output2\n",
    "        return output"
   ]
  },
  {
   "cell_type": "code",
   "execution_count": 6,
   "id": "3949c93a",
   "metadata": {},
   "outputs": [],
   "source": [
    "class UBlock(nn.Module):\n",
    "    def __init__(self, in_channels, out_channels):\n",
    "        super(MyBlock, self).__init__()\n",
    "        self.tconv1 = nn.ConvTranspose2d(in_channels=in_channels, out_channels=out_channels, kernel_size=3, stride=2, padding = 1)\n",
    "        self.bn1 = nn.BatchNorm2d(out_channels)\n",
    "        self.relu = nn.ReLu(inplace = True)\n",
    "        self.conv2 = nn.Conv2d(in_channels=in_channels, out_channels=out_channels, kernel_size=3, stride = 1, padding = 1)\n",
    "        self.bn2 = nn.BatchNorm2d(out_channels)\n",
    "        \n",
    "    def forward(self, x):\n",
    "        output1 = self.tconv1(x)\n",
    "        \n",
    "        output2 = self.bn1(x)\n",
    "        output2 = self.relu(output2)\n",
    "        output2 = self.tconv(output2)\n",
    "        output2 = self.bn2(output2)\n",
    "        output2 = self.relu(output2)\n",
    "        output2 = self.conv2(output2)\n",
    "\n",
    "        output = output1 + output2\n",
    "        return output\n"
   ]
  },
  {
   "cell_type": "code",
   "execution_count": 7,
   "id": "8835bde5",
   "metadata": {},
   "outputs": [],
   "source": [
    "class SBlock(nn.Module):\n",
    "    def __init__(self, in_channels, out_channels):\n",
    "        super(MyBlock, self).__init__()\n",
    "        self.conv1 = nn.Conv2d(in_channels=in_channels, out_channels=out_channels, kernel_size=1, stride=1, padding=1)\n",
    "    def forward(self, x):\n",
    "        output = self.conv1(x)"
   ]
  },
  {
   "cell_type": "code",
   "execution_count": 8,
   "id": "c477cc1b",
   "metadata": {},
   "outputs": [],
   "source": [
    "class ResNet2(nn.Module):\n",
    "    def __init__(self, in_channels = 1, out_channels = 64):\n",
    "        super(ResNet2, self).__init__()\n",
    "        self.s1 = SBlock(in_channels=in_channels, out_channels=out_channels)\n",
    "        self.s2 = SBlock(in_channels=out_channels, out_channels=out_channels)\n",
    "        self.d1 = DBlock(in_channels=in_chanels,out_channels=out_channels)\n",
    "        self.d2 = DBlock(in_channels=out_channels, out_channels=out_channels)\n",
    "        self.u1 = UBlock(in_channels=out_channels, out_channels=out_channels)\n",
    "        self.u2 = UBlock(in_channels=out_channels, out_channels=out_channels)\n",
    "    def forward(self, x):\n",
    "        output_s1 = self.s1(x)\n",
    "\n",
    "        output_inside = self.d1(x)\n",
    "        \n",
    "        output_s2 = self.s2(output_inside)\n",
    "\n",
    "        output_du = self.d2(output_inside)\n",
    "        output_du = self.u1(output_du)\n",
    "        output_du = output_du + output_s2\n",
    "        output_du = self.u2(output_du)\n",
    "\n",
    "        output = output_s1 + output_du\n",
    "        return output\n",
    "\n"
   ]
  },
  {
   "cell_type": "code",
   "execution_count": null,
   "id": "044d90a6",
   "metadata": {},
   "outputs": [],
   "source": [
    "'''' \n",
    "Training ResNet2\n",
    "\n",
    "    Requires training set.\n",
    "''''"
   ]
  },
  {
   "cell_type": "code",
   "execution_count": 10,
   "id": "66831426",
   "metadata": {},
   "outputs": [],
   "source": [
    "import numpy as np\n",
    "import matplotlib.pyplot as plt"
   ]
  },
  {
   "cell_type": "code",
   "execution_count": null,
   "id": "0178da90",
   "metadata": {},
   "outputs": [],
   "source": []
  }
 ],
 "metadata": {
  "kernelspec": {
   "display_name": "tpd-env",
   "language": "python",
   "name": "python3"
  },
  "language_info": {
   "codemirror_mode": {
    "name": "ipython",
    "version": 3
   },
   "file_extension": ".py",
   "mimetype": "text/x-python",
   "name": "python",
   "nbconvert_exporter": "python",
   "pygments_lexer": "ipython3",
   "version": "3.11.13"
  }
 },
 "nbformat": 4,
 "nbformat_minor": 5
}
